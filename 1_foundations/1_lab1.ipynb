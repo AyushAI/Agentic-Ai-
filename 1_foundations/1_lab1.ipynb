{
 "cells": [
  {
   "cell_type": "markdown",
   "metadata": {},
   "source": [
    "# Welcome to the start of your adventure in Agentic AI"
   ]
  },
  {
   "cell_type": "markdown",
   "metadata": {},
   "source": [
    "<table style=\"margin: 0; text-align: left; width:100%\">\n",
    "    <tr>\n",
    "        <td style=\"width: 150px; height: 150px; vertical-align: middle;\">\n",
    "            <img src=\"../assets/stop.png\" width=\"150\" height=\"150\" style=\"display: block;\" />\n",
    "        </td>\n",
    "        <td>\n",
    "            <h2 style=\"color:#ff7800;\">Are you ready for action??</h2>\n",
    "            <span style=\"color:#ff7800;\">Have you completed all the setup steps in the <a href=\"../setup/\">setup</a> folder?<br/>\n",
    "            Have you read the <a href=\"../README.md\">README</a>? Many common questions are answered here!<br/>\n",
    "            Have you checked out the guides in the <a href=\"../guides/01_intro.ipynb\">guides</a> folder?<br/>\n",
    "            Well in that case, you're ready!!\n",
    "            </span>\n",
    "        </td>\n",
    "    </tr>\n",
    "</table>"
   ]
  },
  {
   "cell_type": "markdown",
   "metadata": {},
   "source": [
    "<table style=\"margin: 0; text-align: left; width:100%\">\n",
    "    <tr>\n",
    "        <td style=\"width: 150px; height: 150px; vertical-align: middle;\">\n",
    "            <img src=\"../assets/tools.png\" width=\"150\" height=\"150\" style=\"display: block;\" />\n",
    "        </td>\n",
    "        <td>\n",
    "            <h2 style=\"color:#00bfff;\">This code is a live resource - keep an eye out for my updates</h2>\n",
    "            <span style=\"color:#00bfff;\">I push updates regularly. As people ask questions or have problems, I add more examples and improve explanations. As a result, the code below might not be identical to the videos, as I've added more steps and better comments. Consider this like an interactive book that accompanies the lectures.<br/><br/>\n",
    "            I try to send emails regularly with important updates related to the course. You can find this in the 'Announcements' section of Udemy in the left sidebar. You can also choose to receive my emails via your Notification Settings in Udemy. I'm respectful of your inbox and always try to add value with my emails!\n",
    "            </span>\n",
    "        </td>\n",
    "    </tr>\n",
    "</table>"
   ]
  },
  {
   "cell_type": "markdown",
   "metadata": {},
   "source": [
    "### And please do remember to contact me if I can help\n",
    "\n",
    "And I love to connect: https://www.linkedin.com/ayushwase\n",
    "\n",
    "\n",
    "### New to Notebooks like this one? Head over to the guides folder!\n",
    "\n",
    "Just to check you've already added the Python and Jupyter extensions to Cursor, if not already installed:\n",
    "- Open extensions (View >> extensions)\n",
    "- Search for python, and when the results show, click on the ms-python one, and Install it if not already installed\n",
    "- Search for jupyter, and when the results show, click on the Microsoft one, and Install it if not already installed  \n",
    "Then View >> Explorer to bring back the File Explorer.\n",
    "\n",
    "And then:\n",
    "1. Click where it says \"Select Kernel\" near the top right, and select the option called `.venv (Python 3.12.9)` or similar, which should be the first choice or the most prominent choice. You may need to choose \"Python Environments\" first.\n",
    "2. Click in each \"cell\" below, starting with the cell immediately below this text, and press Shift+Enter to run\n",
    "3. Enjoy!\n",
    "\n",
    "After you click \"Select Kernel\", if there is no option like `.venv (Python 3.12.9)` then please do the following:  \n",
    "1. On Mac: From the Cursor menu, choose Settings >> VS Code Settings (NOTE: be sure to select `VSCode Settings` not `Cursor Settings`);  \n",
    "On Windows PC: From the File menu, choose Preferences >> VS Code Settings(NOTE: be sure to select `VSCode Settings` not `Cursor Settings`)  \n",
    "2. In the Settings search bar, type \"venv\"  \n",
    "3. In the field \"Path to folder with a list of Virtual Environments\" put the path to the project root, like C:\\Users\\username\\projects\\agents (on a Windows PC) or /Users/username/projects/agents (on Mac or Linux).  \n",
    "And then try again.\n",
    "\n",
    "Having problems with missing Python versions in that list? Have you ever used Anaconda before? It might be interferring. Quit Cursor, bring up a new command line, and make sure that your Anaconda environment is deactivated:    \n",
    "`conda deactivate`  \n",
    "And if you still have any problems with conda and python versions, it's possible that you will need to run this too:  \n",
    "`conda config --set auto_activate_base false`  \n",
    "and then from within the Agents directory, you should be able to run `uv python list` and see the Python 3.12 version."
   ]
  },
  {
   "cell_type": "code",
   "execution_count": 3,
   "metadata": {},
   "outputs": [],
   "source": [
    "# First let's do an import. If you get an Import Error, double check that your Kernel is correct..\n",
    "\n",
    "from dotenv import load_dotenv\n"
   ]
  },
  {
   "cell_type": "code",
   "execution_count": 4,
   "metadata": {},
   "outputs": [
    {
     "data": {
      "text/plain": [
       "True"
      ]
     },
     "execution_count": 4,
     "metadata": {},
     "output_type": "execute_result"
    }
   ],
   "source": [
    "# Next it's time to load the API keys into environment variables\n",
    "# If this returns false, see the next cell!\n",
    "\n",
    "load_dotenv(override=True)"
   ]
  },
  {
   "cell_type": "markdown",
   "metadata": {},
   "source": [
    "### Wait, did that just output `False`??\n",
    "\n",
    "If so, the most common reason is that you didn't save your `.env` file after adding the key! Be sure to have saved.\n",
    "\n",
    "Also, make sure the `.env` file is named precisely `.env` and is in the project root directory (`agents`)\n",
    "\n",
    "By the way, your `.env` file should have a stop symbol next to it in Cursor on the left, and that's actually a good thing: that's Cursor saying to you, \"hey, I realize this is a file filled with secret information, and I'm not going to send it to an external AI to suggest changes, because your keys should not be shown to anyone else.\""
   ]
  },
  {
   "cell_type": "markdown",
   "metadata": {},
   "source": [
    "<table style=\"margin: 0; text-align: left; width:100%\">\n",
    "    <tr>\n",
    "        <td style=\"width: 150px; height: 150px; vertical-align: middle;\">\n",
    "            <img src=\"../assets/stop.png\" width=\"150\" height=\"150\" style=\"display: block;\" />\n",
    "        </td>\n",
    "        <td>\n",
    "            <h2 style=\"color:#ff7800;\">Final reminders</h2>\n",
    "            <span style=\"color:#ff7800;\">1. If you're not confident about Environment Variables or Web Endpoints / APIs, please read Topics 3 and 5 in this <a href=\"../guides/04_technical_foundations.ipynb\">technical foundations guide</a>.<br/>\n",
    "            2. If you want to use AIs other than OpenAI, like Gemini, DeepSeek or Ollama (free), please see the first section in this <a href=\"../guides/09_ai_apis_and_ollama.ipynb\">AI APIs guide</a>.<br/>\n",
    "            3. If you ever get a Name Error in Python, you can always fix it immediately; see the last section of this <a href=\"../guides/06_python_foundations.ipynb\">Python Foundations guide</a> and follow both tutorials and exercises.<br/>\n",
    "            </span>\n",
    "        </td>\n",
    "    </tr>\n",
    "</table>"
   ]
  },
  {
   "cell_type": "code",
   "execution_count": 8,
   "metadata": {},
   "outputs": [
    {
     "data": {
      "text/plain": [
       "True"
      ]
     },
     "execution_count": 8,
     "metadata": {},
     "output_type": "execute_result"
    }
   ],
   "source": [
    "import os\n",
    "load_dotenv()\n"
   ]
  },
  {
   "cell_type": "code",
   "execution_count": 9,
   "metadata": {},
   "outputs": [
    {
     "name": "stdout",
     "output_type": "stream",
     "text": [
      "Gemini API Key exists and begins AIzaSyBa\n"
     ]
    }
   ],
   "source": [
    "# Check the key - if you're not using OpenAI, check whichever key you're using! Ollama doesn't need a key.\n",
    "\n",
    "gemini_api_key = os.getenv('GEMINI_API_KEY')\n",
    "\n",
    "if gemini_api_key:\n",
    "    print(f\"Gemini API Key exists and begins {gemini_api_key[:8]}\")\n",
    "else:\n",
    "    print(\"Gemini API Key not set - please make sure GEMINI_API_KEY is defined in your .env file\")\n",
    "    \n"
   ]
  },
  {
   "cell_type": "code",
   "execution_count": 11,
   "metadata": {},
   "outputs": [],
   "source": [
    "# And now - the all important import statement\n",
    "# If you get an import error - head over to troubleshooting in the Setup folder\n",
    "# Even for other LLM providers like Gemini, you still use this OpenAI import - see Guide 9 for why\n",
    "\n",
    "from google import genai"
   ]
  },
  {
   "cell_type": "code",
   "execution_count": 12,
   "metadata": {},
   "outputs": [],
   "source": [
    "# The client gets the API key from the environment variable `GEMINI_API_KEY`.\n",
    "client = genai.Client()"
   ]
  },
  {
   "cell_type": "code",
   "execution_count": 13,
   "metadata": {},
   "outputs": [],
   "source": [
    "# Create a list of messages in the familiar Gemini format\n",
    "\n",
    "messages = [{\"role\": \"user\", \"content\": \"What is 2+2?\"}]"
   ]
  },
  {
   "cell_type": "code",
   "execution_count": 16,
   "metadata": {},
   "outputs": [
    {
     "name": "stdout",
     "output_type": "stream",
     "text": [
      "2 + 2 = 4\n"
     ]
    }
   ],
   "source": [
    "# And now call it! Any problems, head to the troubleshooting guide\n",
    "# This uses GPT 4.1 nano, the incredibly cheap model\n",
    "# The APIs guide (guide 9) has exact instructions for using even cheaper or free alternatives to OpenAI\n",
    "# If you get a NameError, head to the guides folder (guide 6) to learn about NameErrors - always instantly fixable\n",
    "\n",
    "# Extract the user input text\n",
    "user_input = next((msg[\"content\"] for msg in messages if msg[\"role\"] == \"user\"), \"\")\n",
    "\n",
    "# Call the Gemini model\n",
    "response = client.models.generate_content(\n",
    "    model=\"gemini-2.5-flash\",\n",
    "    contents=user_input\n",
    ")\n",
    "\n",
    "# Print the model’s text response\n",
    "print(response.text)\n",
    "\n"
   ]
  },
  {
   "cell_type": "code",
   "execution_count": 17,
   "metadata": {},
   "outputs": [],
   "source": [
    "# And now - let's ask for a question:\n",
    "\n",
    "question = \"Please propose a hard, challenging question to assess someone's IQ. Respond only with the question.\"\n",
    "messages = [{\"role\": \"user\", \"content\": question}]\n"
   ]
  },
  {
   "cell_type": "code",
   "execution_count": 18,
   "metadata": {},
   "outputs": [],
   "source": [
    "# Extract user content from the messages list\n",
    "user_input = next((msg[\"content\"] for msg in messages if msg[\"role\"] == \"user\"), \"\")"
   ]
  },
  {
   "cell_type": "code",
   "execution_count": 19,
   "metadata": {},
   "outputs": [
    {
     "name": "stdout",
     "output_type": "stream",
     "text": [
      "Consider a sequence of transformations applied to a two-digit number $XY$ (where $X$ is the tens digit and $Y$ is the units digit). Each transformation, denoted $T_1, T_2, T_3, T_4$, involves a specific, hidden rule for altering the digits.\n",
      "\n",
      "Observe the following two complete sequences of transformations:\n",
      "\n",
      "**Sequence A:**\n",
      "$12 \\xrightarrow{T_1} 31 \\xrightarrow{T_2} 14 \\xrightarrow{T_3} 45 \\xrightarrow{T_4} 65$\n",
      "\n",
      "**Sequence B:**\n",
      "$45 \\xrightarrow{T_1} 91 \\xrightarrow{T_2} 10 \\xrightarrow{T_3} 01 \\xrightarrow{T_4} 09$\n",
      "\n",
      "Now, determine the final number in **Sequence C** by applying the identical rules:\n",
      "\n",
      "**Sequence C:**\n",
      "$78 \\xrightarrow{T_1} ? \\xrightarrow{T_2} ? \\xrightarrow{T_3} ? \\xrightarrow{T_4} ?$\n",
      "\n",
      "**What is the final number in Sequence C?**\n"
     ]
    }
   ],
   "source": [
    "# Generate the response using Gemini 2.5 Flash (you can also use gemini-1.5-pro for deeper reasoning)\n",
    "response = client.models.generate_content(\n",
    "    model=\"gemini-2.5-flash\",\n",
    "    contents=user_input\n",
    ")\n",
    "\n",
    "# Extract the generated question text\n",
    "question = response.text\n",
    "\n",
    "# Print the result\n",
    "print(question)"
   ]
  },
  {
   "cell_type": "code",
   "execution_count": 20,
   "metadata": {},
   "outputs": [],
   "source": [
    "# form a new messages list\n",
    "messages = [{\"role\": \"user\", \"content\": question}]\n"
   ]
  },
  {
   "cell_type": "code",
   "execution_count": 21,
   "metadata": {},
   "outputs": [
    {
     "name": "stdout",
     "output_type": "stream",
     "text": [
      "To solve this problem, we need to decipher the rules for each transformation ($T_1, T_2, T_3, T_4$) by analyzing Sequences A and B. Let's denote a two-digit number as $XY$, where $X$ is the tens digit and $Y$ is the units digit. The transformed number will be $X'Y'$.\n",
      "\n",
      "**Deciphering the Rules:**\n",
      "\n",
      "**1. Transformation $T_1$**\n",
      "*   **Sequence A:** $12 \\xrightarrow{T_1} 31$\n",
      "    *   $X=1, Y=2 \\implies X'=3, Y'=1$\n",
      "*   **Sequence B:** $45 \\xrightarrow{T_1} 91$\n",
      "    *   $X=4, Y=5 \\implies X'=9, Y'=1$\n",
      "\n",
      "Let's look at the patterns:\n",
      "*   **For $X'$:**\n",
      "    *   A: $1 \\to 3$. $1+2=3$.\n",
      "    *   B: $4 \\to 9$. $4+5=9$.\n",
      "    This suggests $X' = (X+Y) \\pmod{10}$. (Using modulo 10 ensures $X'$ remains a single digit, which is consistent with the problem's format for $XY$. For the given examples, $X+Y$ is already a single digit, so modulo 10 doesn't change anything, but it's important for later steps.)\n",
      "*   **For $Y'$:**\n",
      "    *   A: $2 \\to 1$. $|1-2|=1$.\n",
      "    *   B: $5 \\to 1$. $|4-5|=1$.\n",
      "    This suggests $Y' = |X-Y|$.\n",
      "\n",
      "**Rule for $T_1$**: $T_1(XY) = ((X+Y)\\pmod{10})|X-Y|$.\n",
      "\n",
      "**2. Transformation $T_2$**\n",
      "*   **Sequence A:** $31 \\xrightarrow{T_2} 14$\n",
      "    *   $X=3, Y=1 \\implies X'=1, Y'=4$\n",
      "*   **Sequence B:** $91 \\xrightarrow{T_2} 10$\n",
      "    *   $X=9, Y=1 \\implies X'=1, Y'=0$\n",
      "\n",
      "Let's look at the patterns:\n",
      "*   **For $X'$:**\n",
      "    *   A: $3 \\to 1$.\n",
      "    *   B: $9 \\to 1$.\n",
      "    This suggests $X'$ is always $1$.\n",
      "*   **For $Y'$:**\n",
      "    *   A: $1 \\to 4$. $3+1=4$.\n",
      "    *   B: $1 \\to 0$. $9+1=10$, which ends in $0$.\n",
      "    This suggests $Y' = (X+Y) \\pmod{10}$.\n",
      "\n",
      "**Rule for $T_2$**: $T_2(XY) = 1((X+Y)\\pmod{10})$.\n",
      "\n",
      "**3. Transformation $T_3$**\n",
      "*   **Sequence A:** $14 \\xrightarrow{T_3} 45$\n",
      "    *   $X=1, Y=4 \\implies X'=4, Y'=5$\n",
      "*   **Sequence B:** $10 \\xrightarrow{T_3} 01$\n",
      "    *   $X=1, Y=0 \\implies X'=0, Y'=1$\n",
      "\n",
      "Let's look at the patterns:\n",
      "*   **For $X'$:**\n",
      "    *   A: $1 \\to 4$. $X'$ is $Y$.\n",
      "    *   B: $1 \\to 0$. $X'$ is $Y$.\n",
      "    This suggests $X' = Y$.\n",
      "*   **For $Y'$:**\n",
      "    *   A: $4 \\to 5$. $1+4=5$.\n",
      "    *   B: $0 \\to 1$. $1+0=1$.\n",
      "    This suggests $Y' = X+Y$. (In the given examples, $X+Y$ is always a single digit, so no modulo is needed for $Y'$.)\n",
      "\n",
      "**Rule for $T_3$**: $T_3(XY) = Y(X+Y)$.\n",
      "\n",
      "**4. Transformation $T_4$**\n",
      "*   **Sequence A:** $45 \\xrightarrow{T_4} 65$\n",
      "    *   $X=4, Y=5 \\implies X'=6, Y'=5$\n",
      "*   **Sequence B:** $01 \\xrightarrow{T_4} 09$\n",
      "    *   $X=0, Y=1 \\implies X'=0, Y'=9$\n",
      "\n",
      "This transformation seems to have conditional rules:\n",
      "*   **For $Y'$:**\n",
      "    *   A: $Y=5 \\to Y'=5$. ($Y'$ is $Y$)\n",
      "    *   B: $Y=1 \\to Y'=9$. ($Y'$ is $10-Y$)\n",
      "    This suggests: If $Y \\ge 5$, then $Y'=Y$. If $Y < 5$, then $Y'=10-Y$.\n",
      "*   **For $X'$:**\n",
      "    *   A: $X=4 \\to X'=6$. ($X'$ is $X+2$) (This is for when $Y=5 \\ge 5$)\n",
      "    *   B: $X=0 \\to X'=0$. ($X'$ is $X$) (This is for when $Y=1 < 5$)\n",
      "    This suggests: If $Y \\ge 5$, then $X'=X+2$. If $Y < 5$, then $X'=X$.\n",
      "\n",
      "**Rule for $T_4$**: $T_4(XY) = X'Y'$, where:\n",
      "*   If $Y \\ge 5$: $X' = X+2$, $Y' = Y$.\n",
      "*   If $Y < 5$: $X' = X$, $Y' = 10-Y$.\n",
      "\n",
      "**Applying the Rules to Sequence C:**\n",
      "\n",
      "Starting number: $78$ ($X_0=7, Y_0=8$)\n",
      "\n",
      "**Step 1: $78 \\xrightarrow{T_1} A_1B_1$**\n",
      "*   $X_1 = (X_0+Y_0) \\pmod{10} = (7+8) \\pmod{10} = 15 \\pmod{10} = 5$.\n",
      "*   $Y_1 = |X_0-Y_0| = |7-8| = |-1| = 1$.\n",
      "Result: $51$.\n",
      "\n",
      "**Step 2: $51 \\xrightarrow{T_2} A_2B_2$**\n",
      "*   $X_2 = 1$. (from $T_2$ rule)\n",
      "*   $Y_2 = (X_1+Y_1) \\pmod{10} = (5+1) \\pmod{10} = 6 \\pmod{10} = 6$.\n",
      "Result: $16$.\n",
      "\n",
      "**Step 3: $16 \\xrightarrow{T_3} A_3B_3$**\n",
      "*   $X_3 = Y_2 = 6$.\n",
      "*   $Y_3 = X_2+Y_2 = 1+6 = 7$.\n",
      "Result: $67$.\n",
      "\n",
      "**Step 4: $67 \\xrightarrow{T_4} A_4B_4$**\n",
      "*   Current digits are $X_3=6, Y_3=7$.\n",
      "*   Since $Y_3=7 \\ge 5$, we apply the first part of the $T_4$ rule:\n",
      "    *   $X_4 = X_3+2 = 6+2 = 8$.\n",
      "    *   $Y_4 = Y_3 = 7$.\n",
      "Result: $87$.\n",
      "\n",
      "The final number in Sequence C is 87.\n",
      "\n",
      "The final answer is $\\boxed{87}$.\n"
     ]
    }
   ],
   "source": [
    "# Extract the user input (Gemini expects plain text or structured content)\n",
    "user_input = next((msg[\"content\"] for msg in messages if msg[\"role\"] == \"user\"), \"\")\n",
    "\n",
    "# Generate the response using Gemini 2.5 Flash model\n",
    "response = client.models.generate_content(\n",
    "    model=\"gemini-2.5-flash\",\n",
    "    contents=user_input\n",
    ")\n",
    "\n",
    "# Extract the generated text (similar to response.choices[0].message.content in OpenAI)\n",
    "answer = response.text\n",
    "print(answer)"
   ]
  },
  {
   "cell_type": "code",
   "execution_count": 22,
   "metadata": {},
   "outputs": [
    {
     "data": {
      "text/markdown": [
       "To solve this problem, we need to decipher the rules for each transformation ($T_1, T_2, T_3, T_4$) by analyzing Sequences A and B. Let's denote a two-digit number as $XY$, where $X$ is the tens digit and $Y$ is the units digit. The transformed number will be $X'Y'$.\n",
       "\n",
       "**Deciphering the Rules:**\n",
       "\n",
       "**1. Transformation $T_1$**\n",
       "*   **Sequence A:** $12 \\xrightarrow{T_1} 31$\n",
       "    *   $X=1, Y=2 \\implies X'=3, Y'=1$\n",
       "*   **Sequence B:** $45 \\xrightarrow{T_1} 91$\n",
       "    *   $X=4, Y=5 \\implies X'=9, Y'=1$\n",
       "\n",
       "Let's look at the patterns:\n",
       "*   **For $X'$:**\n",
       "    *   A: $1 \\to 3$. $1+2=3$.\n",
       "    *   B: $4 \\to 9$. $4+5=9$.\n",
       "    This suggests $X' = (X+Y) \\pmod{10}$. (Using modulo 10 ensures $X'$ remains a single digit, which is consistent with the problem's format for $XY$. For the given examples, $X+Y$ is already a single digit, so modulo 10 doesn't change anything, but it's important for later steps.)\n",
       "*   **For $Y'$:**\n",
       "    *   A: $2 \\to 1$. $|1-2|=1$.\n",
       "    *   B: $5 \\to 1$. $|4-5|=1$.\n",
       "    This suggests $Y' = |X-Y|$.\n",
       "\n",
       "**Rule for $T_1$**: $T_1(XY) = ((X+Y)\\pmod{10})|X-Y|$.\n",
       "\n",
       "**2. Transformation $T_2$**\n",
       "*   **Sequence A:** $31 \\xrightarrow{T_2} 14$\n",
       "    *   $X=3, Y=1 \\implies X'=1, Y'=4$\n",
       "*   **Sequence B:** $91 \\xrightarrow{T_2} 10$\n",
       "    *   $X=9, Y=1 \\implies X'=1, Y'=0$\n",
       "\n",
       "Let's look at the patterns:\n",
       "*   **For $X'$:**\n",
       "    *   A: $3 \\to 1$.\n",
       "    *   B: $9 \\to 1$.\n",
       "    This suggests $X'$ is always $1$.\n",
       "*   **For $Y'$:**\n",
       "    *   A: $1 \\to 4$. $3+1=4$.\n",
       "    *   B: $1 \\to 0$. $9+1=10$, which ends in $0$.\n",
       "    This suggests $Y' = (X+Y) \\pmod{10}$.\n",
       "\n",
       "**Rule for $T_2$**: $T_2(XY) = 1((X+Y)\\pmod{10})$.\n",
       "\n",
       "**3. Transformation $T_3$**\n",
       "*   **Sequence A:** $14 \\xrightarrow{T_3} 45$\n",
       "    *   $X=1, Y=4 \\implies X'=4, Y'=5$\n",
       "*   **Sequence B:** $10 \\xrightarrow{T_3} 01$\n",
       "    *   $X=1, Y=0 \\implies X'=0, Y'=1$\n",
       "\n",
       "Let's look at the patterns:\n",
       "*   **For $X'$:**\n",
       "    *   A: $1 \\to 4$. $X'$ is $Y$.\n",
       "    *   B: $1 \\to 0$. $X'$ is $Y$.\n",
       "    This suggests $X' = Y$.\n",
       "*   **For $Y'$:**\n",
       "    *   A: $4 \\to 5$. $1+4=5$.\n",
       "    *   B: $0 \\to 1$. $1+0=1$.\n",
       "    This suggests $Y' = X+Y$. (In the given examples, $X+Y$ is always a single digit, so no modulo is needed for $Y'$.)\n",
       "\n",
       "**Rule for $T_3$**: $T_3(XY) = Y(X+Y)$.\n",
       "\n",
       "**4. Transformation $T_4$**\n",
       "*   **Sequence A:** $45 \\xrightarrow{T_4} 65$\n",
       "    *   $X=4, Y=5 \\implies X'=6, Y'=5$\n",
       "*   **Sequence B:** $01 \\xrightarrow{T_4} 09$\n",
       "    *   $X=0, Y=1 \\implies X'=0, Y'=9$\n",
       "\n",
       "This transformation seems to have conditional rules:\n",
       "*   **For $Y'$:**\n",
       "    *   A: $Y=5 \\to Y'=5$. ($Y'$ is $Y$)\n",
       "    *   B: $Y=1 \\to Y'=9$. ($Y'$ is $10-Y$)\n",
       "    This suggests: If $Y \\ge 5$, then $Y'=Y$. If $Y < 5$, then $Y'=10-Y$.\n",
       "*   **For $X'$:**\n",
       "    *   A: $X=4 \\to X'=6$. ($X'$ is $X+2$) (This is for when $Y=5 \\ge 5$)\n",
       "    *   B: $X=0 \\to X'=0$. ($X'$ is $X$) (This is for when $Y=1 < 5$)\n",
       "    This suggests: If $Y \\ge 5$, then $X'=X+2$. If $Y < 5$, then $X'=X$.\n",
       "\n",
       "**Rule for $T_4$**: $T_4(XY) = X'Y'$, where:\n",
       "*   If $Y \\ge 5$: $X' = X+2$, $Y' = Y$.\n",
       "*   If $Y < 5$: $X' = X$, $Y' = 10-Y$.\n",
       "\n",
       "**Applying the Rules to Sequence C:**\n",
       "\n",
       "Starting number: $78$ ($X_0=7, Y_0=8$)\n",
       "\n",
       "**Step 1: $78 \\xrightarrow{T_1} A_1B_1$**\n",
       "*   $X_1 = (X_0+Y_0) \\pmod{10} = (7+8) \\pmod{10} = 15 \\pmod{10} = 5$.\n",
       "*   $Y_1 = |X_0-Y_0| = |7-8| = |-1| = 1$.\n",
       "Result: $51$.\n",
       "\n",
       "**Step 2: $51 \\xrightarrow{T_2} A_2B_2$**\n",
       "*   $X_2 = 1$. (from $T_2$ rule)\n",
       "*   $Y_2 = (X_1+Y_1) \\pmod{10} = (5+1) \\pmod{10} = 6 \\pmod{10} = 6$.\n",
       "Result: $16$.\n",
       "\n",
       "**Step 3: $16 \\xrightarrow{T_3} A_3B_3$**\n",
       "*   $X_3 = Y_2 = 6$.\n",
       "*   $Y_3 = X_2+Y_2 = 1+6 = 7$.\n",
       "Result: $67$.\n",
       "\n",
       "**Step 4: $67 \\xrightarrow{T_4} A_4B_4$**\n",
       "*   Current digits are $X_3=6, Y_3=7$.\n",
       "*   Since $Y_3=7 \\ge 5$, we apply the first part of the $T_4$ rule:\n",
       "    *   $X_4 = X_3+2 = 6+2 = 8$.\n",
       "    *   $Y_4 = Y_3 = 7$.\n",
       "Result: $87$.\n",
       "\n",
       "The final number in Sequence C is 87.\n",
       "\n",
       "The final answer is $\\boxed{87}$."
      ],
      "text/plain": [
       "<IPython.core.display.Markdown object>"
      ]
     },
     "metadata": {},
     "output_type": "display_data"
    }
   ],
   "source": [
    "from IPython.display import Markdown, display\n",
    "\n",
    "display(Markdown(answer))\n",
    "\n"
   ]
  },
  {
   "cell_type": "markdown",
   "metadata": {},
   "source": [
    "# Congratulations!\n",
    "\n",
    "That was a small, simple step in the direction of Agentic AI, with your new environment!\n",
    "\n",
    "Next time things get more interesting..."
   ]
  },
  {
   "cell_type": "markdown",
   "metadata": {},
   "source": [
    "<table style=\"margin: 0; text-align: left; width:100%\">\n",
    "    <tr>\n",
    "        <td style=\"width: 150px; height: 150px; vertical-align: middle;\">\n",
    "            <img src=\"../assets/exercise.png\" width=\"150\" height=\"150\" style=\"display: block;\" />\n",
    "        </td>\n",
    "        <td>\n",
    "            <h2 style=\"color:#ff7800;\">Exercise</h2>\n",
    "            <span style=\"color:#ff7800;\">Now try this commercial application:<br/>\n",
    "            First ask the LLM to pick a business area that might be worth exploring for an Agentic AI opportunity.<br/>\n",
    "            Then ask the LLM to present a pain-point in that industry - something challenging that might be ripe for an Agentic solution.<br/>\n",
    "            Finally have 3 third LLM call propose the Agentic AI solution. <br/>\n",
    "            We will cover this at up-coming labs, so don't worry if you're unsure.. just give it a try!\n",
    "            </span>\n",
    "        </td>\n",
    "    </tr>\n",
    "</table>"
   ]
  },
  {
   "cell_type": "code",
   "execution_count": 24,
   "metadata": {},
   "outputs": [
    {
     "name": "stdout",
     "output_type": "stream",
     "text": [
      "Okay, let's pick a business area ripe for Agentic AI:\n",
      "\n",
      "**Business Area: Personalized Lifelong Learning & Skill Transformation**\n",
      "\n",
      "**The Core Problem:**\n",
      "The pace of change in industries and technologies means that skills have a decreasing shelf life. Traditional education is slow, generic, and often reactive. Individuals struggle to identify *what* they need to learn next, *how* to learn it effectively for their specific style, and *how* to stay motivated through the process. The \"skill gap\" is widening globally.\n",
      "\n",
      "**Why Agentic AI is a Game-Changer Here:**\n",
      "\n",
      "1.  **Proactive Skill Gap Identification:**\n",
      "    *   **Agentic Function:** An AI agent could continuously monitor an individual's career trajectory, current role, industry trends, and desired future roles. It would analyze job market data, academic research, and company internal skill matrices to *proactively identify* emerging skill gaps or opportunities *before* they become critical.\n",
      "    *   **Beyond Reactive Search:** Instead of waiting for a user to search for \"learn Python,\" the agent might suggest, \"Based on your current role as a marketing analyst and the increasing demand for predictive analytics, acquiring advanced Python for data science would significantly boost your career trajectory in the next 18 months.\"\n",
      "\n",
      "2.  **Hyper-Personalized Learning Path Generation & Curation:**\n",
      "    *   **Agentic Function:** The agent would dynamically create and adapt a learning roadmap unique to the individual. It would consider their current knowledge, learning style (visual, auditory, kinesthetic), time availability, preferred modalities (courses, projects, books, mentorship), and even energy levels. It wouldn't just recommend a course; it would curate a sequence of resources from various platforms, synthesize information, and potentially generate custom exercises or explanations.\n",
      "    *   **Intelligent Adaptation:** If the user struggles with a concept, the agent would identify the root cause and provide alternative explanations or resources. If they master something quickly, it would accelerate the pace.\n",
      "\n",
      "3.  **Adaptive Tutoring & Mentorship Facilitation:**\n",
      "    *   **Agentic Function:** The agent could act as an always-available, personalized tutor. It could explain complex concepts, answer questions in context, provide immediate feedback on practice problems, and even simulate real-world scenarios. Beyond direct tutoring, it could proactively identify when human mentorship would be beneficial and facilitate connections with appropriate human experts or peer groups.\n",
      "\n",
      "4.  **Motivation & Accountability Nudges:**\n",
      "    *   **Agentic Function:** Learning is hard and requires discipline. An agent could analyze a user's engagement patterns, identify potential drops in motivation, and proactively intervene with encouraging messages, reminders, progress highlights, gamified challenges, or by restructuring the learning plan to be more engaging. It understands the user's \"why\" and can tie learning activities back to their ultimate goals.\n",
      "\n",
      "5.  **Career & Project Integration:**\n",
      "    *   **Agentic Function:** The agent wouldn't just teach skills in isolation. It would identify real-world projects or mini-challenges within the user's work environment (or simulate them) where newly acquired skills could be immediately applied. It could even integrate with professional networking platforms to suggest relevant connections or job opportunities as skills are acquired.\n",
      "\n",
      "**Why this needs Agentic AI (vs. just advanced AI/ML):**\n",
      "\n",
      "*   **Proactivity:** It doesn't wait for explicit instructions; it *anticipates* needs.\n",
      "*   **Goal-Oriented Autonomy:** It understands the overarching goal (e.g., career progression, mastering a field) and independently breaks it down, plans, executes (by curating/generating), monitors progress, and adapts.\n",
      "*   **Contextual Understanding:** Deeply understands the individual's unique situation, learning history, preferences, and external market factors.\n",
      "*   **Continuous Learning & Adaptation:** The agent itself is constantly learning about the user and the external environment to refine its strategies.\n",
      "*   **Interaction with External Systems:** It would interact with LMS platforms, job boards, professional networks, content repositories, and potentially even corporate HR systems.\n",
      "\n",
      "**Monetization Opportunities:**\n",
      "\n",
      "*   **Subscription Model:** Premium features, deeper personalization, access to advanced content or human mentor matching.\n",
      "*   **B2B Solutions:** Corporate upskilling platforms, employee development tools, skill transformation for specific departments or industries.\n",
      "*   **Commission/Affiliate:** On recommended courses, books, or certifications.\n",
      "*   **Accreditation Partnerships:** Partnering with educational institutions for accredited outcomes.\n",
      "\n",
      "This area holds immense potential because it addresses a universal and growing need, moving beyond static content delivery to dynamic, adaptive, and highly personalized guidance throughout an individual's entire professional (and personal) journey.\n"
     ]
    }
   ],
   "source": [
    "# First create the messages:\n",
    "\n",
    "messages = [{\"role\": \"user\", \"content\": \"pick a business area that might be worth exploring for an Agentic AI opportunity\"}]\n",
    "\n",
    "# Extract the user input (Gemini expects plain text or structured content)\n",
    "user_input = next((msg[\"content\"] for msg in messages if msg[\"role\"] == \"user\"), \"\")\n",
    "# Then make the first call:\n",
    "\n",
    "response = client.models.generate_content(\n",
    "    model=\"gemini-2.5-flash\",\n",
    "    contents=user_input\n",
    ")\n",
    "\n",
    "\n",
    "# Then read the business idea:\n",
    "\n",
    "business_idea = response.text\n",
    "\n",
    "# And repeat! In the next message, include the business idea within the message\n",
    "print(business_idea)"
   ]
  },
  {
   "cell_type": "code",
   "execution_count": 25,
   "metadata": {},
   "outputs": [
    {
     "data": {
      "text/markdown": [
       "Okay, let's pick a business area ripe for Agentic AI:\n",
       "\n",
       "**Business Area: Personalized Lifelong Learning & Skill Transformation**\n",
       "\n",
       "**The Core Problem:**\n",
       "The pace of change in industries and technologies means that skills have a decreasing shelf life. Traditional education is slow, generic, and often reactive. Individuals struggle to identify *what* they need to learn next, *how* to learn it effectively for their specific style, and *how* to stay motivated through the process. The \"skill gap\" is widening globally.\n",
       "\n",
       "**Why Agentic AI is a Game-Changer Here:**\n",
       "\n",
       "1.  **Proactive Skill Gap Identification:**\n",
       "    *   **Agentic Function:** An AI agent could continuously monitor an individual's career trajectory, current role, industry trends, and desired future roles. It would analyze job market data, academic research, and company internal skill matrices to *proactively identify* emerging skill gaps or opportunities *before* they become critical.\n",
       "    *   **Beyond Reactive Search:** Instead of waiting for a user to search for \"learn Python,\" the agent might suggest, \"Based on your current role as a marketing analyst and the increasing demand for predictive analytics, acquiring advanced Python for data science would significantly boost your career trajectory in the next 18 months.\"\n",
       "\n",
       "2.  **Hyper-Personalized Learning Path Generation & Curation:**\n",
       "    *   **Agentic Function:** The agent would dynamically create and adapt a learning roadmap unique to the individual. It would consider their current knowledge, learning style (visual, auditory, kinesthetic), time availability, preferred modalities (courses, projects, books, mentorship), and even energy levels. It wouldn't just recommend a course; it would curate a sequence of resources from various platforms, synthesize information, and potentially generate custom exercises or explanations.\n",
       "    *   **Intelligent Adaptation:** If the user struggles with a concept, the agent would identify the root cause and provide alternative explanations or resources. If they master something quickly, it would accelerate the pace.\n",
       "\n",
       "3.  **Adaptive Tutoring & Mentorship Facilitation:**\n",
       "    *   **Agentic Function:** The agent could act as an always-available, personalized tutor. It could explain complex concepts, answer questions in context, provide immediate feedback on practice problems, and even simulate real-world scenarios. Beyond direct tutoring, it could proactively identify when human mentorship would be beneficial and facilitate connections with appropriate human experts or peer groups.\n",
       "\n",
       "4.  **Motivation & Accountability Nudges:**\n",
       "    *   **Agentic Function:** Learning is hard and requires discipline. An agent could analyze a user's engagement patterns, identify potential drops in motivation, and proactively intervene with encouraging messages, reminders, progress highlights, gamified challenges, or by restructuring the learning plan to be more engaging. It understands the user's \"why\" and can tie learning activities back to their ultimate goals.\n",
       "\n",
       "5.  **Career & Project Integration:**\n",
       "    *   **Agentic Function:** The agent wouldn't just teach skills in isolation. It would identify real-world projects or mini-challenges within the user's work environment (or simulate them) where newly acquired skills could be immediately applied. It could even integrate with professional networking platforms to suggest relevant connections or job opportunities as skills are acquired.\n",
       "\n",
       "**Why this needs Agentic AI (vs. just advanced AI/ML):**\n",
       "\n",
       "*   **Proactivity:** It doesn't wait for explicit instructions; it *anticipates* needs.\n",
       "*   **Goal-Oriented Autonomy:** It understands the overarching goal (e.g., career progression, mastering a field) and independently breaks it down, plans, executes (by curating/generating), monitors progress, and adapts.\n",
       "*   **Contextual Understanding:** Deeply understands the individual's unique situation, learning history, preferences, and external market factors.\n",
       "*   **Continuous Learning & Adaptation:** The agent itself is constantly learning about the user and the external environment to refine its strategies.\n",
       "*   **Interaction with External Systems:** It would interact with LMS platforms, job boards, professional networks, content repositories, and potentially even corporate HR systems.\n",
       "\n",
       "**Monetization Opportunities:**\n",
       "\n",
       "*   **Subscription Model:** Premium features, deeper personalization, access to advanced content or human mentor matching.\n",
       "*   **B2B Solutions:** Corporate upskilling platforms, employee development tools, skill transformation for specific departments or industries.\n",
       "*   **Commission/Affiliate:** On recommended courses, books, or certifications.\n",
       "*   **Accreditation Partnerships:** Partnering with educational institutions for accredited outcomes.\n",
       "\n",
       "This area holds immense potential because it addresses a universal and growing need, moving beyond static content delivery to dynamic, adaptive, and highly personalized guidance throughout an individual's entire professional (and personal) journey."
      ],
      "text/plain": [
       "<IPython.core.display.Markdown object>"
      ]
     },
     "metadata": {},
     "output_type": "display_data"
    }
   ],
   "source": [
    "from IPython.display import Markdown, display\n",
    "\n",
    "display(Markdown(business_idea))"
   ]
  }
 ],
 "metadata": {
  "kernelspec": {
   "display_name": ".venv",
   "language": "python",
   "name": "python3"
  },
  "language_info": {
   "codemirror_mode": {
    "name": "ipython",
    "version": 3
   },
   "file_extension": ".py",
   "mimetype": "text/x-python",
   "name": "python",
   "nbconvert_exporter": "python",
   "pygments_lexer": "ipython3",
   "version": "3.12.12"
  }
 },
 "nbformat": 4,
 "nbformat_minor": 2
}
